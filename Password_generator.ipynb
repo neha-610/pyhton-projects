{
 "cells": [
  {
   "cell_type": "code",
   "execution_count": 6,
   "metadata": {},
   "outputs": [
    {
     "name": "stdout",
     "output_type": "stream",
     "text": [
      "Random pass1 : PWpeAdZV\n",
      "Random pass2 : jdsnXfZn\n"
     ]
    }
   ],
   "source": [
    "import random\n",
    "import string\n",
    "\n",
    "def randomPass(stringLength):\n",
    "    letters= string.ascii_letters\n",
    "    return ''.join(random.choice(letters) for i in range(stringLength))\n",
    "print(\"Random pass1 :\",randomPass(8))\n",
    "print(\"Random pass2 :\",randomPass(8))"
   ]
  },
  {
   "cell_type": "code",
   "execution_count": 7,
   "metadata": {},
   "outputs": [
    {
     "name": "stdout",
     "output_type": "stream",
     "text": [
      "Random String with the combination of lowercase and uppercase letters\n",
      "First Random String is  nQZZHVNg\n",
      "second Random String is  iXJuRKRk\n"
     ]
    }
   ],
   "source": [
    "import random\n",
    "import string\n",
    "\n",
    "def randomString(stringLength):\n",
    "    letters = string.ascii_letters\n",
    "    return ''.join(random.choice(letters) for i in range(stringLength))\n",
    "print(\"Random String with the combination of lowercase and uppercase letters\")\n",
    "print(\"First Random String is \", randomString(8))\n",
    "print(\"second Random String is \", randomString(8))\n"
   ]
  },
  {
   "cell_type": "code",
   "execution_count": 8,
   "metadata": {},
   "outputs": [
    {
     "name": "stdout",
     "output_type": "stream",
     "text": [
      "Random String with the combination of lowercase and uppercase letters\n",
      "First Random String is  04989647\n",
      "second Random String is  89131604\n"
     ]
    }
   ],
   "source": [
    "import random\n",
    "import string\n",
    "\n",
    "def randomString(stringLength):\n",
    "    digits = string.digits\n",
    "    return ''.join(random.choice(digits) for i in range(stringLength))\n",
    "print(\"Random String with the combination of digits\")\n",
    "print(\"First Random String is \", randomString(8))\n",
    "print(\"second Random String is \", randomString(8))"
   ]
  },
  {
   "cell_type": "code",
   "execution_count": 22,
   "metadata": {},
   "outputs": [
    {
     "name": "stdout",
     "output_type": "stream",
     "text": [
      "Random String with the combination of lowercase and uppercase letters and digits\n",
      "First Random String is  ucgfdBYZ\n",
      "second Random String is  ThGwgeFb\n"
     ]
    }
   ],
   "source": [
    "import random\n",
    "import string\n",
    "\n",
    "def randomString(stringLength=8):\n",
    "    letter_digits = string.digits + string.ascii_letters\n",
    "    return ''.join((random.choice(letter_digits) for i in range(stringLength)))\n",
    "print(\"Random String with the combination of lowercase and uppercase letters and digits\")\n",
    "print(\"First Random String is \", randomString(8))\n",
    "print(\"second Random String is \", randomString(8))"
   ]
  },
  {
   "cell_type": "code",
   "execution_count": 27,
   "metadata": {},
   "outputs": [
    {
     "name": "stdout",
     "output_type": "stream",
     "text": [
      "Random String with the combination of lowercase and uppercase letters and digits and special charcaters\n",
      "First Random String is  Sz+UoV1@\n",
      "second Random String is  wutBfU9@\n"
     ]
    }
   ],
   "source": [
    "import random\n",
    "import string\n",
    "\n",
    "def randomString(stringLength=8):\n",
    "    letter_digits = string.digits + string.ascii_letters + string.punctuation\n",
    "    return ''.join((random.choice(letter_digits) for i in range(stringLength)))\n",
    "print(\"Random String with the combination of lowercase and uppercase letters and digits and special charcaters\")\n",
    "print(\"First Random String is \", randomString(8))\n",
    "print(\"second Random String is \", randomString(8))"
   ]
  },
  {
   "cell_type": "code",
   "execution_count": null,
   "metadata": {},
   "outputs": [],
   "source": []
  }
 ],
 "metadata": {
  "kernelspec": {
   "display_name": "Python 3",
   "language": "python",
   "name": "python3"
  },
  "language_info": {
   "codemirror_mode": {
    "name": "ipython",
    "version": 3
   },
   "file_extension": ".py",
   "mimetype": "text/x-python",
   "name": "python",
   "nbconvert_exporter": "python",
   "pygments_lexer": "ipython3",
   "version": "3.6.5"
  }
 },
 "nbformat": 4,
 "nbformat_minor": 2
}
